{
 "cells": [
  {
   "cell_type": "markdown",
   "metadata": {},
   "source": [
    "# Project 1 Introduction to Artificial Intelligence Andrea Buzzo"
   ]
  },
  {
   "cell_type": "markdown",
   "metadata": {},
   "source": [
    "In this project, your Pacman agent will find paths through his maze world, both to reach a particular location and to collect food eﬀiciently"
   ]
  },
  {
   "cell_type": "markdown",
   "metadata": {},
   "source": [
    "In this notebook there are all changes I do in this project"
   ]
  },
  {
   "cell_type": "markdown",
   "metadata": {},
   "source": [
    "For work with this notebook we need to import all library and files"
   ]
  },
  {
   "cell_type": "code",
   "execution_count": null,
   "metadata": {},
   "outputs": [],
   "source": [
    "# Library utili\n",
    "import util \n",
    "# Librari heapq\n",
    "import heapq\n",
    "\n",
    "# We need to import all files \n",
    "from game import Actions\n",
    "from typing import List, Tuple, Any\n",
    "from game import Directions\n",
    "from game import Agent\n",
    "import time\n",
    "import search\n",
    "import pacman\n",
    "import searchAgents"
   ]
  },
  {
   "cell_type": "markdown",
   "metadata": {},
   "source": [
    "Now we need to import all classes from `Search.py` for working on first four questions"
   ]
  },
  {
   "cell_type": "code",
   "execution_count": null,
   "metadata": {},
   "outputs": [],
   "source": [
    "class SearchProblem:\n",
    "    \"\"\"\n",
    "    This class outlines the structure of a search problem, but doesn't implement\n",
    "    any of the methods (in object-oriented terminology: an abstract class).\n",
    "\n",
    "    You do not need to change anything in this class, ever.\n",
    "    \"\"\"\n",
    "    def __init__(self, startingPosition, corners, walls):\n",
    "        \"\"\"\n",
    "        Initializes the CornersProblem with the given starting position, corner\n",
    "        coordinates, and wall positions.\n",
    "        \"\"\"\n",
    "        self.startingPosition = startingPosition\n",
    "        self.corners = corners\n",
    "        self.walls = walls\n",
    "\n",
    "    def getStartState(self):\n",
    "        \"\"\"\n",
    "        Returns the start state for the search problem.\n",
    "        \"\"\"\n",
    "        return (self.startingPosition, tuple(self.corners))\n",
    "\n",
    "    def isGoalState(self, state):\n",
    "        \"\"\"\n",
    "        Returns True if and only if the state is a valid goal state.\n",
    "        \"\"\"\n",
    "        return not state[1]  # Check if there are no remaining corners\n",
    "\n",
    "    def getSuccessors(self, state):\n",
    "        \"\"\"\n",
    "        For a given state, this should return a list of triples, (successor,\n",
    "        action, stepCost), where 'successor' is a successor to the current\n",
    "        state, 'action' is the action required to get there, and 'stepCost' is\n",
    "        the incremental cost of expanding to that successor.\n",
    "        \"\"\"\n",
    "        successors = []\n",
    "        pacman_position, remaining_corners = state\n",
    "\n",
    "        for action in ['North', 'South', 'East', 'West']:\n",
    "            x, y = pacman_position\n",
    "            dx, dy = Actions.directionToVector(action)\n",
    "            next_x, next_y = int(x + dx), int(y + dy)\n",
    "\n",
    "            if not self.walls[next_x][next_y]:\n",
    "                next_position = (next_x, next_y)\n",
    "                next_corners = tuple([c for c in remaining_corners if c != next_position])\n",
    "                successors.append(((next_position, next_corners), action, 1))  # Assuming constant cost\n",
    "\n",
    "        return successors\n",
    "\n",
    "    def getCostOfActions(self, actions):\n",
    "        \"\"\"\n",
    "         actions: A list of actions to take\n",
    "\n",
    "        This method returns the total cost of a particular sequence of actions.\n",
    "        The sequence must be composed of legal moves.\n",
    "        \"\"\"\n",
    "        return len(actions)\n",
    "\n",
    "\n",
    "def tinyMazeSearch(problem):\n",
    "    \"\"\"\n",
    "    Returns a sequence of moves that solves tinyMaze.  For any other maze, the\n",
    "    sequence of moves will be incorrect, so only use this for tinyMaze.\n",
    "    \"\"\"\n",
    "    from game import Directions\n",
    "    s = Directions.SOUTH\n",
    "    w = Directions.WEST\n",
    "    return  [s, s, w, s, w, w, s, w]"
   ]
  },
  {
   "cell_type": "markdown",
   "metadata": {},
   "source": [
    "Now we are prepared for work and complete the question"
   ]
  },
  {
   "cell_type": "markdown",
   "metadata": {},
   "source": [
    "---"
   ]
  },
  {
   "cell_type": "markdown",
   "metadata": {},
   "source": [
    "## Question 1: Finding a Fixed Food Dot using Depth First Search"
   ]
  },
  {
   "cell_type": "markdown",
   "metadata": {},
   "source": [
    "In this question we need to find a path with using `Depth First Search Algorithm` and here there are my implementation for this algortihm, I start to implement this from the `DFS` pseudocode "
   ]
  },
  {
   "cell_type": "code",
   "execution_count": null,
   "metadata": {},
   "outputs": [],
   "source": [
    "def depthFirstSearch(problem: SearchProblem):\n",
    "    \"\"\"\n",
    "    Search the deepest nodes in the search tree first.\n",
    "\n",
    "    Your search algorithm needs to return a list of actions that reaches the\n",
    "    goal. Make sure to implement a graph search algorithm.\n",
    "\n",
    "    To get started, you might want to try some of these simple commands to\n",
    "    understand the search problem that is being passed in:\n",
    "\n",
    "    print(\"Start:\", problem.getStartState())\n",
    "    print(\"Is the start a goal?\", problem.isGoalState(problem.getStartState()))\n",
    "    print(\"Start's successors:\", problem.getSuccessors(problem.getStartState()))\n",
    "    \"\"\"\n",
    "    visited = set()  # To keep track of visited states\n",
    "    stack = util.Stack()  # Stack for DFS\n",
    "\n",
    "    # Push the start state onto the stack with an empty list of actions\n",
    "    stack.push((problem.getStartState(), []))\n",
    "\n",
    "    while not stack.isEmpty():\n",
    "        state, actions = stack.pop()\n",
    "\n",
    "        if problem.isGoalState(state):\n",
    "            return actions  # Return the list of actions if the goal state is reached\n",
    "\n",
    "        if state not in visited:\n",
    "            visited.add(state)\n",
    "\n",
    "            # Get successors and push them onto the stack with updated actions\n",
    "            for successor, action, _ in problem.getSuccessors(state):\n",
    "                new_actions = actions + [action]\n",
    "                stack.push((successor, new_actions))\n",
    "\n",
    "    # If no solution is found\n",
    "    return []"
   ]
  },
  {
   "cell_type": "markdown",
   "metadata": {},
   "source": [
    "For test this code we need to run this"
   ]
  },
  {
   "cell_type": "code",
   "execution_count": null,
   "metadata": {},
   "outputs": [],
   "source": [
    "print(\"-----------------------------------------------------------\")\n",
    "!python3 pacman.py -l tinyMaze -p SearchAgent\n",
    "print(\"-----------------------------------------------------------\")\n",
    "!python3 pacman.py -l mediumMaze -p SearchAgent \n",
    "print(\"-----------------------------------------------------------\")\n",
    "!python3 pacman.py -l bigMaze -z .5 -p SearchAgent\n",
    "print(\"-----------------------------------------------------------\")"
   ]
  },
  {
   "cell_type": "markdown",
   "metadata": {},
   "source": [
    "---"
   ]
  },
  {
   "cell_type": "markdown",
   "metadata": {},
   "source": [
    "## Question 2: Breadth First Search"
   ]
  },
  {
   "cell_type": "markdown",
   "metadata": {},
   "source": [
    "In this question we need to find a path with using `Breadth First Search Algorithm` and here there are my implementation for this algortihm, I start to implement this from the `BFS` pseudocode "
   ]
  },
  {
   "cell_type": "code",
   "execution_count": null,
   "metadata": {},
   "outputs": [],
   "source": [
    "def breadthFirstSearch(problem: SearchProblem):\n",
    "    \"\"\"\n",
    "    Search the shallowest nodes in the search tree first.\n",
    "    \"\"\"\n",
    "    visited = set()  # To keep track of visited states\n",
    "    queue = util.Queue()  # Queue for BFS\n",
    "\n",
    "    # Enqueue the start state onto the queue with an empty list of actions\n",
    "    queue.push((problem.getStartState(), []))\n",
    "\n",
    "    while not queue.isEmpty():\n",
    "        state, actions = queue.pop()\n",
    "\n",
    "        if problem.isGoalState(state):\n",
    "            return actions  # Return the list of actions if the goal state is reached\n",
    "\n",
    "        if state not in visited:\n",
    "            visited.add(state)\n",
    "\n",
    "            # Get successors and enqueue them onto the queue with updated actions\n",
    "            for successor, action, _ in problem.getSuccessors(state):\n",
    "                new_actions = actions + [action]\n",
    "                queue.push((successor, new_actions))\n",
    "\n",
    "    # If no solution is found\n",
    "    return []"
   ]
  },
  {
   "cell_type": "markdown",
   "metadata": {},
   "source": [
    "For test this code we need to run this"
   ]
  },
  {
   "cell_type": "code",
   "execution_count": null,
   "metadata": {},
   "outputs": [],
   "source": [
    "print(\"-----------------------------------------------------------\")\n",
    "!python3 pacman.py -l mediumMaze -p SearchAgent -a fn=bfs\n",
    "print(\"-----------------------------------------------------------\")\n",
    "!python3 pacman.py -l bigMaze -p SearchAgent -a fn=bfs -z .5\n",
    "print(\"-----------------------------------------------------------\")"
   ]
  },
  {
   "cell_type": "markdown",
   "metadata": {},
   "source": [
    "---"
   ]
  },
  {
   "cell_type": "markdown",
   "metadata": {},
   "source": [
    "## Question 3: Varying the Cost Function"
   ]
  },
  {
   "cell_type": "markdown",
   "metadata": {},
   "source": [
    "In this question we need to find a path with using `Uniform Cost Search Algorithm` and here there are my implementation for this algortihm, I start to implement this from the `UCS` pseudocode "
   ]
  },
  {
   "cell_type": "code",
   "execution_count": null,
   "metadata": {},
   "outputs": [],
   "source": [
    "def uniformCostSearch(problem: SearchProblem):\n",
    "    \"\"\"\n",
    "    Search the node of least total cost first.\n",
    "    \"\"\"\n",
    "    visited = set()  # To keep track of visited states\n",
    "    priority_queue = util.PriorityQueue()  # PriorityQueue for UCS\n",
    "\n",
    "    # Enqueue the start state onto the priority queue with an initial cost of 0 and an empty list of actions\n",
    "    priority_queue.push((problem.getStartState(), [], 0), 0)\n",
    "\n",
    "    while not priority_queue.isEmpty():\n",
    "        state, actions, cost = priority_queue.pop()\n",
    "\n",
    "        if problem.isGoalState(state):\n",
    "            return actions  # Return the list of actions if the goal state is reached\n",
    "\n",
    "        if state not in visited:\n",
    "            visited.add(state)\n",
    "\n",
    "            # Get successors and enqueue them onto the priority queue with updated actions and cost\n",
    "            for successor, action, step_cost in problem.getSuccessors(state):\n",
    "                new_actions = actions + [action]\n",
    "                new_cost = cost + step_cost\n",
    "                priority_queue.push((successor, new_actions, new_cost), new_cost)\n",
    "\n",
    "    # If no solution is found\n",
    "    return []"
   ]
  },
  {
   "cell_type": "markdown",
   "metadata": {},
   "source": [
    "For test this code we need to run this"
   ]
  },
  {
   "cell_type": "code",
   "execution_count": null,
   "metadata": {},
   "outputs": [],
   "source": [
    "print(\"-----------------------------------------------------------\")\n",
    "!python3 pacman.py -l mediumMaze -p SearchAgent -a fn=ucs\n",
    "print(\"-----------------------------------------------------------\")\n",
    "!python3 pacman.py -l mediumDottedMaze -p StayEastSearchAgent \n",
    "print(\"-----------------------------------------------------------\")\n",
    "!python3 pacman.py -l mediumScaryMaze -p StayWestSearchAgent\n",
    "print(\"-----------------------------------------------------------\")"
   ]
  },
  {
   "cell_type": "markdown",
   "metadata": {},
   "source": [
    "----"
   ]
  },
  {
   "cell_type": "markdown",
   "metadata": {},
   "source": [
    "## Question 4: $A^*$ Search"
   ]
  },
  {
   "cell_type": "markdown",
   "metadata": {},
   "source": [
    "In this question we need to find a path with using `A* Search` and here there are my implementation for this algortihm."
   ]
  },
  {
   "cell_type": "code",
   "execution_count": null,
   "metadata": {},
   "outputs": [],
   "source": [
    "class Node:\n",
    "    def __init__(self, state, actions, cost, heuristic):\n",
    "        self.state = state\n",
    "        self.actions = actions\n",
    "        self.cost = cost\n",
    "        self.heuristic = heuristic\n",
    "\n",
    "    def __lt__(self, other):\n",
    "        return (self.cost + self.heuristic) < (other.cost + other.heuristic)\n",
    "\n",
    "def nullHeuristic(state, problem=None):\n",
    "    \"\"\"\n",
    "    A heuristic function estimates the cost from the current state to the nearest\n",
    "    goal in the provided SearchProblem.  This heuristic is trivial.\n",
    "    \"\"\"\n",
    "    return 0\n",
    "\n",
    "def aStarSearch(problem: SearchProblem, heuristic=nullHeuristic):\n",
    "    \"\"\"Search the node that has the lowest combined cost and heuristic first.\"\"\"\n",
    "    start_state = problem.getStartState()\n",
    "    start_node = Node(state=start_state, actions=[], cost=0, heuristic=heuristic(start_state, problem))\n",
    "\n",
    "    open_set = [start_node]\n",
    "    closed_set = set()\n",
    "\n",
    "    while open_set:\n",
    "        current_node = heapq.heappop(open_set)\n",
    "\n",
    "        if problem.isGoalState(current_node.state):\n",
    "            return current_node.actions\n",
    "\n",
    "        state_key = tuple(current_node.state)  # Convert set to tuple\n",
    "        if state_key not in closed_set:\n",
    "            closed_set.add(state_key)\n",
    "            successors = problem.getSuccessors(current_node.state)\n",
    "\n",
    "            for successor, action, step_cost in successors:\n",
    "                new_actions = current_node.actions + [action]\n",
    "                new_cost = current_node.cost + step_cost\n",
    "                new_heuristic = heuristic(successor, problem)\n",
    "                new_node = Node(state=successor, actions=new_actions, cost=new_cost, heuristic=new_heuristic)\n",
    "\n",
    "                heapq.heappush(open_set, new_node)\n",
    "\n",
    "    return None"
   ]
  },
  {
   "cell_type": "markdown",
   "metadata": {},
   "source": [
    "For test this code we need to run this"
   ]
  },
  {
   "cell_type": "code",
   "execution_count": null,
   "metadata": {},
   "outputs": [],
   "source": [
    "print(\"-----------------------------------------------------------\")\n",
    "!python3 pacman.py -l bigMaze -z .5 -p SearchAgent -a fn=astar,heuristic=manhattanHeuristic\n",
    "print(\"-----------------------------------------------------------\")"
   ]
  },
  {
   "cell_type": "markdown",
   "metadata": {},
   "source": [
    "----"
   ]
  },
  {
   "cell_type": "markdown",
   "metadata": {},
   "source": [
    "For Next question we need to set what is in the `searchAgent.py` "
   ]
  },
  {
   "cell_type": "code",
   "execution_count": null,
   "metadata": {},
   "outputs": [],
   "source": [
    "class GoWestAgent(Agent):\n",
    "    \"An agent that goes West until it can't.\"\n",
    "\n",
    "    def getAction(self, state):\n",
    "        \"The agent receives a GameState (defined in pacman.py).\"\n",
    "        if Directions.WEST in state.getLegalPacmanActions():\n",
    "            return Directions.WEST\n",
    "        else:\n",
    "            return Directions.STOP\n",
    "\n",
    "class SearchAgent(Agent):\n",
    "    \"\"\"\n",
    "    This very general search agent finds a path using a supplied search\n",
    "    algorithm for a supplied search problem, then returns actions to follow that\n",
    "    path.\n",
    "\n",
    "    As a default, this agent runs DFS on a PositionSearchProblem to find\n",
    "    location (1,1)\n",
    "\n",
    "    Options for fn include:\n",
    "      depthFirstSearch or dfs\n",
    "      breadthFirstSearch or bfs\n",
    "\n",
    "\n",
    "    Note: You should NOT change any code in SearchAgent\n",
    "    \"\"\"\n",
    "\n",
    "    def __init__(self, fn='depthFirstSearch', prob='PositionSearchProblem', heuristic='nullHeuristic'):\n",
    "        # Warning: some advanced Python magic is employed below to find the right functions and problems\n",
    "\n",
    "        # Get the search function from the name and heuristic\n",
    "        if fn not in dir(search):\n",
    "            raise AttributeError(fn + ' is not a search function in search.py.')\n",
    "        func = getattr(search, fn)\n",
    "        if 'heuristic' not in func.__code__.co_varnames:\n",
    "            print('[SearchAgent] using function ' + fn)\n",
    "            self.searchFunction = func\n",
    "        else:\n",
    "            if heuristic in globals().keys():\n",
    "                heur = globals()[heuristic]\n",
    "            elif heuristic in dir(search):\n",
    "                heur = getattr(search, heuristic)\n",
    "            else:\n",
    "                raise AttributeError(heuristic + ' is not a function in searchAgents.py or search.py.')\n",
    "            print('[SearchAgent] using function %s and heuristic %s' % (fn, heuristic))\n",
    "            # Note: this bit of Python trickery combines the search algorithm and the heuristic\n",
    "            self.searchFunction = lambda x: func(x, heuristic=heur)\n",
    "\n",
    "        # Get the search problem type from the name\n",
    "        if prob not in globals().keys() or not prob.endswith('Problem'):\n",
    "            raise AttributeError(prob + ' is not a search problem type in SearchAgents.py.')\n",
    "        self.searchType = globals()[prob]\n",
    "        print('[SearchAgent] using problem type ' + prob)\n",
    "\n",
    "    def registerInitialState(self, state):\n",
    "        \"\"\"\n",
    "        This is the first time that the agent sees the layout of the game\n",
    "        board. Here, we choose a path to the goal. In this phase, the agent\n",
    "        should compute the path to the goal and store it in a local variable.\n",
    "        All of the work is done in this method!\n",
    "\n",
    "        state: a GameState object (pacman.py)\n",
    "        \"\"\"\n",
    "        if self.searchFunction == None: raise Exception(\"No search function provided for SearchAgent\")\n",
    "        starttime = time.time()\n",
    "        problem = self.searchType(state) # Makes a new search problem\n",
    "        self.actions  = self.searchFunction(problem) # Find a path\n",
    "        if self.actions == None:\n",
    "            self.actions = []\n",
    "        totalCost = problem.getCostOfActions(self.actions)\n",
    "        print('Path found with total cost of %d in %.1f seconds' % (totalCost, time.time() - starttime))\n",
    "        if '_expanded' in dir(problem): print('Search nodes expanded: %d' % problem._expanded)\n",
    "\n",
    "    def getAction(self, state):\n",
    "        \"\"\"\n",
    "        Returns the next action in the path chosen earlier (in\n",
    "        registerInitialState).  Return Directions.STOP if there is no further\n",
    "        action to take.\n",
    "\n",
    "        state: a GameState object (pacman.py)\n",
    "        \"\"\"\n",
    "        if 'actionIndex' not in dir(self): self.actionIndex = 0\n",
    "        i = self.actionIndex\n",
    "        self.actionIndex += 1\n",
    "        if i < len(self.actions):\n",
    "            return self.actions[i]\n",
    "        else:\n",
    "            return Directions.STOP\n",
    "\n",
    "class PositionSearchProblem(search.SearchProblem):\n",
    "    \"\"\"\n",
    "    A search problem defines the state space, start state, goal test, successor\n",
    "    function and cost function.  This search problem can be used to find paths\n",
    "    to a particular point on the pacman board.\n",
    "\n",
    "    The state space consists of (x,y) positions in a pacman game.\n",
    "\n",
    "    Note: this search problem is fully specified; you should NOT change it.\n",
    "    \"\"\"\n",
    "\n",
    "    def __init__(self, gameState, costFn = lambda x: 1, goal=(1,1), start=None, warn=True, visualize=True):\n",
    "        \"\"\"\n",
    "        Stores the start and goal.\n",
    "\n",
    "        gameState: A GameState object (pacman.py)\n",
    "        costFn: A function from a search state (tuple) to a non-negative number\n",
    "        goal: A position in the gameState\n",
    "        \"\"\"\n",
    "        self.walls = gameState.getWalls()\n",
    "        self.startState = gameState.getPacmanPosition()\n",
    "        if start != None: self.startState = start\n",
    "        self.goal = goal\n",
    "        self.costFn = costFn\n",
    "        self.visualize = visualize\n",
    "        if warn and (gameState.getNumFood() != 1 or not gameState.hasFood(*goal)):\n",
    "            print('Warning: this does not look like a regular search maze')\n",
    "\n",
    "        # For display purposes\n",
    "        self._visited, self._visitedlist, self._expanded = {}, [], 0 # DO NOT CHANGE\n",
    "\n",
    "    def getStartState(self):\n",
    "        return self.startState\n",
    "\n",
    "    def isGoalState(self, state):\n",
    "        isGoal = state == self.goal\n",
    "\n",
    "        # For display purposes only\n",
    "        if isGoal and self.visualize:\n",
    "            self._visitedlist.append(state)\n",
    "            import __main__\n",
    "            if '_display' in dir(__main__):\n",
    "                if 'drawExpandedCells' in dir(__main__._display): #@UndefinedVariable\n",
    "                    __main__._display.drawExpandedCells(self._visitedlist) #@UndefinedVariable\n",
    "\n",
    "        return isGoal\n",
    "\n",
    "    def getSuccessors(self, state):\n",
    "        \"\"\"\n",
    "        Returns successor states, the actions they require, and a cost of 1.\n",
    "\n",
    "         As noted in search.py:\n",
    "             For a given state, this should return a list of triples,\n",
    "         (successor, action, stepCost), where 'successor' is a\n",
    "         successor to the current state, 'action' is the action\n",
    "         required to get there, and 'stepCost' is the incremental\n",
    "         cost of expanding to that successor\n",
    "        \"\"\"\n",
    "\n",
    "        successors = []\n",
    "        for action in [Directions.NORTH, Directions.SOUTH, Directions.EAST, Directions.WEST]:\n",
    "            x,y = state\n",
    "            dx, dy = Actions.directionToVector(action)\n",
    "            nextx, nexty = int(x + dx), int(y + dy)\n",
    "            if not self.walls[nextx][nexty]:\n",
    "                nextState = (nextx, nexty)\n",
    "                cost = self.costFn(nextState)\n",
    "                successors.append( ( nextState, action, cost) )\n",
    "\n",
    "        # Bookkeeping for display purposes\n",
    "        self._expanded += 1 # DO NOT CHANGE\n",
    "        if state not in self._visited:\n",
    "            self._visited[state] = True\n",
    "            self._visitedlist.append(state)\n",
    "\n",
    "        return successors\n",
    "\n",
    "    def getCostOfActions(self, actions):\n",
    "        \"\"\"\n",
    "        Returns the cost of a particular sequence of actions. If those actions\n",
    "        include an illegal move, return 999999.\n",
    "        \"\"\"\n",
    "        if actions == None: return 999999\n",
    "        x,y= self.getStartState()\n",
    "        cost = 0\n",
    "        for action in actions:\n",
    "            # Check figure out the next state and see whether its' legal\n",
    "            dx, dy = Actions.directionToVector(action)\n",
    "            x, y = int(x + dx), int(y + dy)\n",
    "            if self.walls[x][y]: return 999999\n",
    "            cost += self.costFn((x,y))\n",
    "        return cost\n",
    "\n",
    "class StayEastSearchAgent(SearchAgent):\n",
    "    \"\"\"\n",
    "    An agent for position search with a cost function that penalizes being in\n",
    "    positions on the West side of the board.\n",
    "\n",
    "    The cost function for stepping into a position (x,y) is 1/2^x.\n",
    "    \"\"\"\n",
    "    def __init__(self):\n",
    "        self.searchFunction = search.uniformCostSearch\n",
    "        costFn = lambda pos: .5 ** pos[0]\n",
    "        self.searchType = lambda state: PositionSearchProblem(state, costFn, (1, 1), None, False)\n",
    "\n",
    "class StayWestSearchAgent(SearchAgent):\n",
    "    \"\"\"\n",
    "    An agent for position search with a cost function that penalizes being in\n",
    "    positions on the East side of the board.\n",
    "\n",
    "    The cost function for stepping into a position (x,y) is 2^x.\n",
    "    \"\"\"\n",
    "    def __init__(self):\n",
    "        self.searchFunction = search.uniformCostSearch\n",
    "        costFn = lambda pos: 2 ** pos[0]\n",
    "        self.searchType = lambda state: PositionSearchProblem(state, costFn)\n",
    "\n",
    "def manhattanHeuristic(position, problem, info={}):\n",
    "    \"The Manhattan distance heuristic for a PositionSearchProblem\"\n",
    "    xy1 = position\n",
    "    xy2 = problem.goal\n",
    "    return abs(xy1[0] - xy2[0]) + abs(xy1[1] - xy2[1])\n",
    "\n",
    "def euclideanHeuristic(position, problem, info={}):\n",
    "    \"The Euclidean distance heuristic for a PositionSearchProblem\"\n",
    "    xy1 = position\n",
    "    xy2 = problem.goal\n",
    "    return ( (xy1[0] - xy2[0]) ** 2 + (xy1[1] - xy2[1]) ** 2 ) ** 0.5\n",
    "\n",
    "class FoodSearchProblem:\n",
    "    \"\"\"\n",
    "    A search problem associated with finding the a path that collects all of the\n",
    "    food (dots) in a Pacman game.\n",
    "\n",
    "    A search state in this problem is a tuple ( pacmanPosition, foodGrid ) where\n",
    "      pacmanPosition: a tuple (x,y) of integers specifying Pacman's position\n",
    "      foodGrid:       a Grid (see game.py) of either True or False, specifying remaining food\n",
    "    \"\"\"\n",
    "    def __init__(self, startingGameState: pacman.GameState):\n",
    "        self.start = (startingGameState.getPacmanPosition(), startingGameState.getFood())\n",
    "        self.walls = startingGameState.getWalls()\n",
    "        self.startingGameState = startingGameState\n",
    "        self._expanded = 0 # DO NOT CHANGE\n",
    "        self.heuristicInfo = {} # A dictionary for the heuristic to store information\n",
    "\n",
    "    def getStartState(self):\n",
    "        return self.start\n",
    "\n",
    "    def isGoalState(self, state):\n",
    "        return state[1].count() == 0\n",
    "\n",
    "    def getSuccessors(self, state):\n",
    "        \"Returns successor states, the actions they require, and a cost of 1.\"\n",
    "        successors = []\n",
    "        self._expanded += 1 # DO NOT CHANGE\n",
    "        for direction in [Directions.NORTH, Directions.SOUTH, Directions.EAST, Directions.WEST]:\n",
    "            x,y = state[0]\n",
    "            dx, dy = Actions.directionToVector(direction)\n",
    "            nextx, nexty = int(x + dx), int(y + dy)\n",
    "            if not self.walls[nextx][nexty]:\n",
    "                nextFood = state[1].copy()\n",
    "                nextFood[nextx][nexty] = False\n",
    "                successors.append( ( ((nextx, nexty), nextFood), direction, 1) )\n",
    "        return successors\n",
    "\n",
    "    def getCostOfActions(self, actions):\n",
    "        \"\"\"Returns the cost of a particular sequence of actions.  If those actions\n",
    "        include an illegal move, return 999999\"\"\"\n",
    "        x,y= self.getStartState()[0]\n",
    "        cost = 0\n",
    "        for action in actions:\n",
    "            # figure out the next state and see whether it's legal\n",
    "            dx, dy = Actions.directionToVector(action)\n",
    "            x, y = int(x + dx), int(y + dy)\n",
    "            if self.walls[x][y]:\n",
    "                return 999999\n",
    "            cost += 1\n",
    "        return cost\n",
    "    \n",
    "def mazeDistance(point1: Tuple[int, int], point2: Tuple[int, int], gameState: pacman.GameState) -> int:\n",
    "    \"\"\"\n",
    "    Returns the maze distance between any two points, using the search functions\n",
    "    you have already built. The gameState can be any game state -- Pacman's\n",
    "    position in that state is ignored.\n",
    "\n",
    "    Example usage: mazeDistance( (2,4), (5,6), gameState)\n",
    "\n",
    "    This might be a useful helper function for your ApproximateSearchAgent.\n",
    "    \"\"\"\n",
    "    x1, y1 = point1\n",
    "    x2, y2 = point2\n",
    "    walls = gameState.getWalls()\n",
    "    assert not walls[x1][y1], 'point1 is a wall: ' + str(point1)\n",
    "    assert not walls[x2][y2], 'point2 is a wall: ' + str(point2)\n",
    "    prob = PositionSearchProblem(gameState, start=point1, goal=point2, warn=False, visualize=False)\n",
    "    return len(search.bfs(prob))\n",
    "\n",
    "class AnyFoodSearchProblem(PositionSearchProblem):\n",
    "    \"\"\"\n",
    "    A search problem for finding a path to any food.\n",
    "\n",
    "    This search problem is just like the PositionSearchProblem, but has a\n",
    "    different goal test, which you need to fill in below.  The state space and\n",
    "    successor function do not need to be changed.\n",
    "\n",
    "    The class definition above, AnyFoodSearchProblem(PositionSearchProblem),\n",
    "    inherits the methods of the PositionSearchProblem.\n",
    "\n",
    "    You can use this search problem to help you fill in the findPathToClosestDot\n",
    "    method.\n",
    "    \"\"\"\n",
    "\n",
    "    def __init__(self, gameState):\n",
    "        \"Stores information from the gameState.  You don't need to change this.\"\n",
    "        # Store the food for later reference\n",
    "        self.food = gameState.getFood()\n",
    "\n",
    "        # Store info for the PositionSearchProblem (no need to change this)\n",
    "        self.walls = gameState.getWalls()\n",
    "        self.startState = gameState.getPacmanPosition()\n",
    "        self.costFn = lambda x: 1\n",
    "        self._visited, self._visitedlist, self._expanded = {}, [], 0 # DO NOT CHANGE\n",
    "\n",
    "    def isGoalState(self, state: Tuple[int, int]):\n",
    "        \"\"\"\n",
    "        The state is Pacman's position. Fill this in with a goal test that will\n",
    "        complete the problem definition.\n",
    "        \"\"\"\n",
    "        x, y = state\n",
    "        return self.food[x][y]  # True if there is food at Pacman's position, else False"
   ]
  },
  {
   "cell_type": "markdown",
   "metadata": {},
   "source": [
    "----"
   ]
  },
  {
   "cell_type": "markdown",
   "metadata": {},
   "source": [
    "Now we are ready for the next four questions"
   ]
  },
  {
   "cell_type": "markdown",
   "metadata": {},
   "source": [
    "## Question 5: Finding All the Corners"
   ]
  },
  {
   "cell_type": "markdown",
   "metadata": {},
   "source": [
    "The real power of A* will only be apparent with a more challenging search problem, my implementation for finding all the corners are there"
   ]
  },
  {
   "cell_type": "code",
   "execution_count": null,
   "metadata": {},
   "outputs": [],
   "source": [
    "class CornersProblem(search.SearchProblem):\n",
    "    def __init__(self, startingGameState: pacman.GameState):\n",
    "        self.walls = startingGameState.getWalls()\n",
    "        self.startingPosition = startingGameState.getPacmanPosition()\n",
    "        top, right = self.walls.height - 2, self.walls.width - 2\n",
    "        self.corners = ((1, 1), (1, top), (right, 1), (right, top))\n",
    "        for corner in self.corners:\n",
    "            if not startingGameState.hasFood(*corner):\n",
    "                print('Warning: no food in corner ' + str(corner))\n",
    "        self._expanded = 0  # DO NOT CHANGE; Number of search nodes expanded\n",
    "\n",
    "    def getStartState(self):\n",
    "        return (self.startingPosition, self.corners)\n",
    "\n",
    "    def isGoalState(self, state):\n",
    "        pacman_position, remaining_corners = state\n",
    "        return len(remaining_corners) == 0\n",
    "\n",
    "    def getSuccessors(self, state):\n",
    "        successors = []\n",
    "        pacman_position, remaining_corners = state\n",
    "        for action in [Directions.NORTH, Directions.SOUTH, Directions.EAST, Directions.WEST]:\n",
    "            dx, dy = Actions.directionToVector(action)\n",
    "            next_x, next_y = int(pacman_position[0] + dx), int(pacman_position[1] + dy)\n",
    "            if not self.walls[next_x][next_y]:\n",
    "                next_position = (next_x, next_y)\n",
    "                next_remaining_corners = tuple(\n",
    "                    corner for corner in remaining_corners if corner != next_position)\n",
    "                successors.append(((next_position, next_remaining_corners), action, 0.5))\n",
    "\n",
    "        self._expanded += 1  # DO NOT CHANGE\n",
    "        return successors"
   ]
  },
  {
   "cell_type": "markdown",
   "metadata": {},
   "source": [
    "For test this code we need to run this"
   ]
  },
  {
   "cell_type": "code",
   "execution_count": null,
   "metadata": {},
   "outputs": [],
   "source": [
    "print(\"-----------------------------------------------------------\")\n",
    "!python3 pacman.py -l tinyCorners -p SearchAgent -a fn=bfs,prob=CornersProblem\n",
    "print(\"-----------------------------------------------------------\")\n",
    "!python3 pacman.py -l mediumCorners -p SearchAgent -a fn=bfs,prob=CornersProblem\n",
    "print(\"-----------------------------------------------------------\")"
   ]
  },
  {
   "cell_type": "markdown",
   "metadata": {},
   "source": [
    "----"
   ]
  },
  {
   "cell_type": "markdown",
   "metadata": {},
   "source": [
    "## Question 6: Corners Problem: Heuristic"
   ]
  },
  {
   "cell_type": "markdown",
   "metadata": {},
   "source": [
    "Implement a non-trivial, consistent heuristic for the CornersProblem in cornersHeuristic"
   ]
  },
  {
   "cell_type": "code",
   "execution_count": null,
   "metadata": {},
   "outputs": [],
   "source": [
    "def cornersHeuristic(state, problem: CornersProblem):\n",
    "    \"\"\"\n",
    "    A heuristic for the CornersProblem that calculates the Manhattan distance\n",
    "    from the current state to the nearest remaining corner.\n",
    "\n",
    "    state:   The current search state\n",
    "             (a data structure you chose in your search problem)\n",
    "\n",
    "    problem: The CornersProblem instance for this layout.\n",
    "\n",
    "    This function should always return a number that is a lower bound on the\n",
    "    shortest path from the state to a goal of the problem; i.e. it should be\n",
    "    admissible (as well as consistent).\"\"\"\n",
    "    \n",
    "    corners = problem.corners\n",
    "    walls = problem.walls\n",
    "\n",
    "    pacman_position, remaining_corners = state\n",
    "\n",
    "    if not remaining_corners:\n",
    "        return 0  # If there are no remaining corners, the heuristic is 0\n",
    "\n",
    "    total_distance = 0\n",
    "\n",
    "    for corner in remaining_corners:\n",
    "        # Calculate the Manhattan distance from the current position to the corner\n",
    "        distance = abs(pacman_position[0] - corner[0]) + abs(pacman_position[1] - corner[1])\n",
    "        total_distance += distance\n",
    "\n",
    "    # Calculate the weighted average distance by dividing the total distance by the number of remaining corners\n",
    "    heuristic_value = total_distance / len(remaining_corners)\n",
    "\n",
    "    return heuristic_value\n",
    "\n",
    "\n",
    "class AStarCornersAgent(SearchAgent):\n",
    "    \"A SearchAgent for FoodSearchProblem using A* and your foodHeuristic\"\n",
    "    def __init__(self):\n",
    "        self.searchFunction = lambda prob: search.aStarSearch(prob, cornersHeuristic)\n",
    "        self.searchType = CornersProblem"
   ]
  },
  {
   "cell_type": "markdown",
   "metadata": {},
   "source": [
    "For test this code we need to run this"
   ]
  },
  {
   "cell_type": "code",
   "execution_count": null,
   "metadata": {},
   "outputs": [],
   "source": [
    "print(\"-----------------------------------------------------------\")\n",
    "!python3 pacman.py -l mediumCorners -p AStarCornersAgent -z 0.5\n",
    "print(\"-----------------------------------------------------------\")"
   ]
  },
  {
   "cell_type": "markdown",
   "metadata": {},
   "source": [
    "----"
   ]
  },
  {
   "cell_type": "markdown",
   "metadata": {},
   "source": [
    "## Question 7: Eating All The Dots"
   ]
  },
  {
   "cell_type": "markdown",
   "metadata": {},
   "source": [
    "Now we’ll solve a hard search problem: eating all the Pacman food in as few steps as possible"
   ]
  },
  {
   "cell_type": "code",
   "execution_count": null,
   "metadata": {},
   "outputs": [],
   "source": [
    "def foodHeuristic(state: Tuple[Tuple, List[List]], problem: FoodSearchProblem):\n",
    "    \"\"\"\n",
    "    Your heuristic for the FoodSearchProblem goes here.\n",
    "\n",
    "    This heuristic must be consistent to ensure correctness.  First, try to come\n",
    "    up with an admissible heuristic; almost all admissible heuristics will be\n",
    "    consistent as well.\n",
    "\n",
    "    If using A* ever finds a solution that is worse uniform cost search finds,\n",
    "    your heuristic is *not* consistent, and probably not admissible!  On the\n",
    "    other hand, inadmissible or inconsistent heuristics may find optimal\n",
    "    solutions, so be careful.\n",
    "\n",
    "    The state is a tuple ( pacmanPosition, foodGrid ) where foodGrid is a Grid\n",
    "    (see game.py) of either True or False. You can call foodGrid.asList() to get\n",
    "    a list of food coordinates instead.\n",
    "\n",
    "    If you want access to info like walls, capsules, etc., you can query the\n",
    "    problem.  For example, problem.walls gives you a Grid of where the walls\n",
    "    are.\n",
    "\n",
    "    If you want to *store* information to be reused in other calls to the\n",
    "    heuristic, there is a dictionary called problem.heuristicInfo that you can\n",
    "    use. For example, if you only want to count the walls once and store that\n",
    "    value, try: problem.heuristicInfo['wallCount'] = problem.walls.count()\n",
    "    Subsequent calls to this heuristic can access\n",
    "    problem.heuristicInfo['wallCount']\n",
    "    \"\"\"\n",
    "    pacman_position, food_grid = state\n",
    "    foods = food_grid.asList()\n",
    "    if not foods:\n",
    "        return 0\n",
    "\n",
    "    max_distance = 0\n",
    "    for food in foods:\n",
    "        key = pacman_position + food\n",
    "        if key in problem.heuristicInfo:\n",
    "            distance = problem.heuristicInfo[key]\n",
    "        else:\n",
    "            # Use manhattan distance can get 6/7\n",
    "            distance = mazeDistance(pacman_position, food, problem.startingGameState)\n",
    "            problem.heuristicInfo[key] = distance\n",
    "\n",
    "        if distance > max_distance:\n",
    "            max_distance = distance\n",
    "\n",
    "    return max_distance"
   ]
  },
  {
   "cell_type": "markdown",
   "metadata": {},
   "source": [
    "For test this code we need to run this"
   ]
  },
  {
   "cell_type": "code",
   "execution_count": null,
   "metadata": {},
   "outputs": [],
   "source": [
    "print(\"-----------------------------------------------------------\")\n",
    "!python3 pacman.py -l testSearch -p AStarFoodSearchAgent\n",
    "print(\"-----------------------------------------------------------\")\n",
    "!python3 pacman.py -l trickySearch -p AStarFoodSearchAgent\n",
    "print(\"-----------------------------------------------------------\")"
   ]
  },
  {
   "cell_type": "markdown",
   "metadata": {},
   "source": [
    "---"
   ]
  },
  {
   "cell_type": "markdown",
   "metadata": {},
   "source": [
    "## Question 8: Suboptimal Search"
   ]
  },
  {
   "cell_type": "markdown",
   "metadata": {},
   "source": [
    "Sometimes, even with A* and a good heuristic, finding the optimal path through all the dots is hard"
   ]
  },
  {
   "cell_type": "code",
   "execution_count": null,
   "metadata": {},
   "outputs": [],
   "source": [
    "class ClosestDotSearchAgent(SearchAgent):\n",
    "    \"Search for all food using a sequence of searches\"\n",
    "    def registerInitialState(self, state):\n",
    "        self.actions = []\n",
    "        currentState = state\n",
    "        while(currentState.getFood().count() > 0):\n",
    "            nextPathSegment = self.findPathToClosestDot(currentState) # The missing piece\n",
    "            self.actions += nextPathSegment\n",
    "            for action in nextPathSegment:\n",
    "                legal = currentState.getLegalActions()\n",
    "                if action not in legal:\n",
    "                    t = (str(action), str(currentState))\n",
    "                    raise Exception('findPathToClosestDot returned an illegal move: %s!\\n%s' % t)\n",
    "                currentState = currentState.generateSuccessor(0, action)\n",
    "        self.actionIndex = 0\n",
    "        print('Path found with cost %d.' % len(self.actions))\n",
    "\n",
    "    def findPathToClosestDot(self, gameState: pacman.GameState):\n",
    "        \"\"\"\n",
    "        Returns a path (a list of actions) to the closest dot, starting from\n",
    "        gameState.\n",
    "        \"\"\"\n",
    "        # Here are some useful elements of the startState\n",
    "        startPosition = gameState.getPacmanPosition()\n",
    "        food = gameState.getFood()\n",
    "        walls = gameState.getWalls()\n",
    "        problem = AnyFoodSearchProblem(gameState)\n",
    "\n",
    "        # Path cost per algorithm :\n",
    "        return search.bfs(problem)   # 350\n",
    "        #return search.dfs(problem)   # 5324\n",
    "        #return search.ucs(problem)   # 350\n",
    "        #return search.astar(problem) # 350\n",
    "        # I choose bfs because is more simple"
   ]
  },
  {
   "cell_type": "markdown",
   "metadata": {},
   "source": [
    "For test this code we need to run this"
   ]
  },
  {
   "cell_type": "code",
   "execution_count": 23,
   "metadata": {},
   "outputs": [
    {
     "name": "stdout",
     "output_type": "stream",
     "text": [
      "-----------------------------------------------------------\n",
      "[SearchAgent] using function depthFirstSearch\n",
      "[SearchAgent] using problem type PositionSearchProblem\n",
      "Path found with cost 350.\n",
      "Pacman emerges victorious! Score: 2360\n",
      "Average Score: 2360.0\n",
      "Scores:        2360.0\n",
      "Win Rate:      1/1 (1.00)\n",
      "Record:        Win\n",
      "-----------------------------------------------------------\n"
     ]
    }
   ],
   "source": [
    "print(\"-----------------------------------------------------------\")\n",
    "!python3 pacman.py -l bigSearch -p ClosestDotSearchAgent -z .5\n",
    "print(\"-----------------------------------------------------------\")"
   ]
  }
 ],
 "metadata": {
  "kernelspec": {
   "display_name": "Python 3",
   "language": "python",
   "name": "python3"
  },
  "language_info": {
   "codemirror_mode": {
    "name": "ipython",
    "version": 3
   },
   "file_extension": ".py",
   "mimetype": "text/x-python",
   "name": "python",
   "nbconvert_exporter": "python",
   "pygments_lexer": "ipython3",
   "version": "3.11.6"
  }
 },
 "nbformat": 4,
 "nbformat_minor": 2
}
